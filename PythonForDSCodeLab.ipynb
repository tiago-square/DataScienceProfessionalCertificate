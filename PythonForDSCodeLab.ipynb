{
 "cells": [
  {
   "cell_type": "markdown",
   "id": "a266613b-5161-4082-b711-be1917725e11",
   "metadata": {},
   "source": [
    "# Python For Data Science"
   ]
  },
  {
   "cell_type": "markdown",
   "id": "32d2c1a0-2e0f-42ee-949f-5d68e7458c45",
   "metadata": {},
   "source": [
    "## Project: Word Occurrence Counter in Python\n",
    "\n",
    "### What the Program Does:\n",
    "This program counts the number of occurrences of each word in a given string and prints the result. It demonstrates how to manipulate strings, lists, and dictionaries in Python while using functions and loops."
   ]
  },
  {
   "cell_type": "code",
   "execution_count": null,
   "id": "1216e2af-4541-42bc-9521-55d4f3429986",
   "metadata": {},
   "outputs": [],
   "source": [
    "def freq(str_par):\n",
    "    list_var = []\n",
    "    list_var = str_par.split()\n",
    "    dic_var = {}\n",
    "\n",
    "    for key in list_var:\n",
    "        dic_var[key] = list_var.count(key)\n",
    "\n",
    "    return dic_var\n",
    "\n",
    "tobeprint = freq(input(\"Type your text here:\"))\n",
    "\n",
    "for index in tobeprint:\n",
    "    print(index, tobeprint[index])"
   ]
  },
  {
   "cell_type": "markdown",
   "id": "95d9b9dd-e4d7-4602-81e5-cae742a8d3e3",
   "metadata": {},
   "source": [
    "### Author:\n",
    "#### Tiago Quadros\n",
    "www.linkedin.com/in/tiago--quadros"
   ]
  },
  {
   "cell_type": "code",
   "execution_count": null,
   "id": "05850e23-8ed2-42e7-8959-87c016fcbef7",
   "metadata": {},
   "outputs": [],
   "source": []
  }
 ],
 "metadata": {
  "kernelspec": {
   "display_name": "Python [conda env:base] *",
   "language": "python",
   "name": "conda-base-py"
  },
  "language_info": {
   "codemirror_mode": {
    "name": "ipython",
    "version": 3
   },
   "file_extension": ".py",
   "mimetype": "text/x-python",
   "name": "python",
   "nbconvert_exporter": "python",
   "pygments_lexer": "ipython3",
   "version": "3.12.7"
  }
 },
 "nbformat": 4,
 "nbformat_minor": 5
}
