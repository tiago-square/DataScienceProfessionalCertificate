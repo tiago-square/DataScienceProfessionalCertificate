{
 "cells": [
  {
   "cell_type": "markdown",
   "id": "a266613b-5161-4082-b711-be1917725e11",
   "metadata": {},
   "source": [
    "# Python For Data Science"
   ]
  },
  {
   "cell_type": "markdown",
   "id": "32d2c1a0-2e0f-42ee-949f-5d68e7458c45",
   "metadata": {},
   "source": [
    "## 1 - Project: Word Occurrence Counter in Python\n",
    "\n",
    "### What the Program Does:\n",
    "This program counts the number of occurrences of each word in a given string and prints the result. It demonstrates how to manipulate strings, lists, and dictionaries in Python while using functions and loops."
   ]
  },
  {
   "cell_type": "code",
   "execution_count": null,
   "id": "1216e2af-4541-42bc-9521-55d4f3429986",
   "metadata": {},
   "outputs": [],
   "source": [
    "def freq(str_par):\n",
    "    list_var = []\n",
    "    list_var = str_par.split()\n",
    "    dic_var = {}\n",
    "\n",
    "    for key in list_var:\n",
    "        dic_var[key] = list_var.count(key)\n",
    "\n",
    "    return dic_var\n",
    "\n",
    "tobeprint = freq(input(\"Type your text here:\"))\n",
    "\n",
    "for index in tobeprint:\n",
    "    print(index, tobeprint[index])"
   ]
  },
  {
   "cell_type": "markdown",
   "id": "6f2e603c-28d0-455e-8beb-bd15f034cad9",
   "metadata": {},
   "source": [
    "## 2 - Project: Generation of Geometric Shapes\n",
    "\n",
    "### What the Program Does:\n",
    "This project, uses Python's matplotlib library to draw geometric shapes on screen. It demonstrates object-oriented programming concepts, showcasing the use of classes and objects."
   ]
  },
  {
   "cell_type": "code",
   "execution_count": null,
   "id": "da7feb23-746e-443f-bba1-3e896ecd564d",
   "metadata": {},
   "outputs": [],
   "source": [
    "# Import matplotlib library\n",
    "import matplotlib.pyplot as plt\n",
    "%matplotlib inline"
   ]
  },
  {
   "cell_type": "code",
   "execution_count": null,
   "id": "3738b2cc-9c43-43ea-87e0-7cd2df96955b",
   "metadata": {},
   "outputs": [],
   "source": [
    "class Circle(object):\n",
    "    \n",
    "    #Constructor\n",
    "    def __init__(self,radius,color):\n",
    "        self.radius = radius\n",
    "        self.color = color\n",
    "\n",
    "    #Method to add a radius value\n",
    "    def addRadius(self,r):\n",
    "        self.radius = self.radius + r\n",
    "        return (self.radius)\n",
    "\n",
    "    #Method to display the cicrle image\n",
    "    def drawCircle(self):\n",
    "        plt.gca().add_patch(plt.Circle((0, 0), radius=self.radius, fc=self.color))\n",
    "        plt.axis('scaled')\n",
    "        plt.show() "
   ]
  },
  {
   "cell_type": "code",
   "execution_count": null,
   "id": "e98dec71-8bff-4397-91b5-fd9c18b39e4b",
   "metadata": {},
   "outputs": [],
   "source": [
    "# Create an object RedCircle\n",
    "RedCircle = Circle(10,\"Red\")\n",
    "\n",
    "# Call the method drawCircle\n",
    "RedCircle.drawCircle()"
   ]
  },
  {
   "cell_type": "code",
   "execution_count": null,
   "id": "296432f7-3714-4f57-adbb-1bdd22ad4b93",
   "metadata": {},
   "outputs": [],
   "source": [
    "# Create an object BlueCircle\n",
    "BlueCircle = Circle(3,\"Blue\")\n",
    "\n",
    "# Call the method drawCircle\n",
    "BlueCircle.drawCircle()"
   ]
  },
  {
   "cell_type": "code",
   "execution_count": null,
   "id": "385f18df-f873-4e37-ab4d-6b35761dc64e",
   "metadata": {},
   "outputs": [],
   "source": [
    "# Create a new Rectangle class for creating a rectangle object\n",
    "\n",
    "class Rectangle(object):\n",
    "    \n",
    "    # Constructor\n",
    "    def __init__(self, width=2, height=3, color='r'):\n",
    "        self.height = height \n",
    "        self.width = width\n",
    "        self.color = color\n",
    "    \n",
    "    # Method\n",
    "    def drawRectangle(self):\n",
    "        plt.gca().add_patch(plt.Rectangle((0, 0), self.width, self.height ,fc=self.color))\n",
    "        plt.axis('scaled')\n",
    "        plt.show()"
   ]
  },
  {
   "cell_type": "code",
   "execution_count": null,
   "id": "a1df3267-a2a2-4abe-8296-dd9d16e14881",
   "metadata": {},
   "outputs": [],
   "source": [
    "# Create a new object rectangle\n",
    "SkinnyBlueRectangle = Rectangle(2, 3, 'blue')\n",
    "\n",
    "# Use the drawRectangle method to draw the shape\n",
    "SkinnyBlueRectangle.drawRectangle()"
   ]
  },
  {
   "cell_type": "code",
   "execution_count": null,
   "id": "e7859e6e-8238-4d12-8273-bcddf5762d89",
   "metadata": {},
   "outputs": [],
   "source": [
    "# Create a new object rectangle\n",
    "FatYellowRectangle = Rectangle(20, 5, 'yellow')\n",
    "\n",
    "# Use the drawRectangle method to draw the shape\n",
    "FatYellowRectangle.drawRectangle()"
   ]
  },
  {
   "cell_type": "markdown",
   "id": "95d9b9dd-e4d7-4602-81e5-cae742a8d3e3",
   "metadata": {},
   "source": [
    "### Author:\n",
    "#### Tiago Quadros\n",
    "www.linkedin.com/in/tiago--quadros"
   ]
  },
  {
   "cell_type": "code",
   "execution_count": null,
   "id": "05850e23-8ed2-42e7-8959-87c016fcbef7",
   "metadata": {},
   "outputs": [],
   "source": []
  }
 ],
 "metadata": {
  "kernelspec": {
   "display_name": "Python [conda env:base] *",
   "language": "python",
   "name": "conda-base-py"
  },
  "language_info": {
   "codemirror_mode": {
    "name": "ipython",
    "version": 3
   },
   "file_extension": ".py",
   "mimetype": "text/x-python",
   "name": "python",
   "nbconvert_exporter": "python",
   "pygments_lexer": "ipython3",
   "version": "3.12.7"
  }
 },
 "nbformat": 4,
 "nbformat_minor": 5
}
