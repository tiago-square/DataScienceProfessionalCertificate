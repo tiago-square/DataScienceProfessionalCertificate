{
 "cells": [
  {
   "cell_type": "markdown",
   "id": "706a9d14-a0c0-400a-a838-1c0ad00b066b",
   "metadata": {},
   "source": [
    "# String Operations"
   ]
  },
  {
   "cell_type": "markdown",
   "id": "47377057-5a5e-413d-b525-c9d4a6f1aa3c",
   "metadata": {},
   "source": [
    "Hey everyone, welcome to my Python Strings Lab! I'm diving into the world of strings—learning how to create them, slice them up, and even mess around with escape sequences to make my text look just right. This notebook is all about exploring cool string operations like concatenation, repetition, and indexing. I'm excited to share my journey as I experiment and get better at handling text in Python. Enjoy following along!"
   ]
  },
  {
   "cell_type": "markdown",
   "id": "0faaee7e-76e8-440e-a7d6-10b161aabb7e",
   "metadata": {},
   "source": [
    "## About Strings"
   ]
  },
  {
   "cell_type": "markdown",
   "id": "cc6b8b8c-1cf3-46eb-beef-09241f19f112",
   "metadata": {},
   "source": [
    "The following example shows a string contained within 2 quotation marks:"
   ]
  },
  {
   "cell_type": "code",
   "execution_count": 24,
   "id": "bab1c1cf-6451-435c-8efa-f3a7b8a115db",
   "metadata": {},
   "outputs": [
    {
     "data": {
      "text/plain": [
       "'supercalifragilisticexpialidocious'"
      ]
     },
     "execution_count": 24,
     "metadata": {},
     "output_type": "execute_result"
    }
   ],
   "source": [
    "# Using quotation marks for defining string\n",
    "\"supercalifragilisticexpialidocious\""
   ]
  },
  {
   "cell_type": "markdown",
   "id": "fa64bcfe-a098-4ffc-9e60-76e3cc253fbd",
   "metadata": {},
   "source": [
    "Also using single quotation marks:"
   ]
  },
  {
   "cell_type": "code",
   "execution_count": 26,
   "id": "f29c3186-c4f2-4682-ab99-f34a786eeaa2",
   "metadata": {},
   "outputs": [
    {
     "data": {
      "text/plain": [
       "'supercalifragilisticexpialidocious'"
      ]
     },
     "execution_count": 26,
     "metadata": {},
     "output_type": "execute_result"
    }
   ],
   "source": [
    "# Using single quotation marks for defining string\n",
    "'supercalifragilisticexpialidocious'"
   ]
  },
  {
   "cell_type": "markdown",
   "id": "8e98917d-7485-4ad5-94b6-efaa21dce35a",
   "metadata": {},
   "source": [
    "A string can be a combination of spaces and digits"
   ]
  },
  {
   "cell_type": "code",
   "execution_count": 12,
   "id": "97cb1479-b744-431a-ae61-4e7c51ef7a34",
   "metadata": {},
   "outputs": [
    {
     "data": {
      "text/plain": [
       "'1 2 3 4 5 6'"
      ]
     },
     "execution_count": 12,
     "metadata": {},
     "output_type": "execute_result"
    }
   ],
   "source": [
    "# Digits and spaces in string\n",
    "'1 2 3 4 5 6'"
   ]
  },
  {
   "cell_type": "markdown",
   "id": "c01dfaa6-eff8-446b-9df6-ec17add6bdb3",
   "metadata": {},
   "source": [
    "A string also can be a combination of special characters"
   ]
  },
  {
   "cell_type": "code",
   "execution_count": 15,
   "id": "58779f7b-ca72-4e03-acee-c15c7a287311",
   "metadata": {},
   "outputs": [
    {
     "data": {
      "text/plain": [
       "'@#2_#]&*^%$'"
      ]
     },
     "execution_count": 15,
     "metadata": {},
     "output_type": "execute_result"
    }
   ],
   "source": [
    "# Special characters in string\n",
    "'@#2_#]&*^%$'"
   ]
  },
  {
   "cell_type": "markdown",
   "id": "13f60f3b-a8e4-497a-9e6a-96c718be22f7",
   "metadata": {},
   "source": [
    "Printing a string using the print statement"
   ]
  },
  {
   "cell_type": "code",
   "execution_count": 28,
   "id": "10a8a91d-816c-489e-a28c-e22900df132d",
   "metadata": {},
   "outputs": [
    {
     "name": "stdout",
     "output_type": "stream",
     "text": [
      "supercalifragilisticexpialidocious\n"
     ]
    }
   ],
   "source": [
    "# Print the string\n",
    "print(\"supercalifragilisticexpialidocious\")"
   ]
  },
  {
   "cell_type": "markdown",
   "id": "80a0f83f-a8ab-4183-805c-10ea94de85a2",
   "metadata": {},
   "source": [
    "Assigning a string to another variable:"
   ]
  },
  {
   "cell_type": "code",
   "execution_count": 30,
   "id": "6462cf49-4426-4f22-88d1-2db6a3e532a5",
   "metadata": {},
   "outputs": [
    {
     "data": {
      "text/plain": [
       "'supercalifragilisticexpialidocious'"
      ]
     },
     "execution_count": 30,
     "metadata": {},
     "output_type": "execute_result"
    }
   ],
   "source": [
    "# Assign a string to the variable\n",
    "var_name = 'supercalifragilisticexpialidocious'\n",
    "var_name"
   ]
  },
  {
   "cell_type": "markdown",
   "id": "62d358b8-e4a4-4dbe-a3be-c353b23a78ab",
   "metadata": {},
   "source": [
    "## Indexing"
   ]
  },
  {
   "cell_type": "markdown",
   "id": "8b3dfb28-fb20-44d1-a716-5443603f2e08",
   "metadata": {},
   "source": [
    "#### Var_name = **\"supercalifragilisticexpialidocious\"**\n",
    "\n",
    "|s|u|p|e|r|c|a|l|i|f|r|a|g|i|l|i|s|t|i|c|e|x|p|i|a|l|i|d|o|c|i|o|u|s|\n",
    "|-|-|-|-|-|-|-|-|-|-|-|-|-|-|-|-|-|-|-|-|-|-|-|-|-|-|-|-|-|-|-|-|-|-|\n",
    "|0|1|2|3|4|5|6|7|8|9|10|11|12|13|14|15|16|17|18|19|20|21|22|23|24|25|26|27|28|29|30|31|32|33|"
   ]
  },
  {
   "cell_type": "markdown",
   "id": "1c830050-9d73-46c1-b6e0-8009654d7d74",
   "metadata": {},
   "source": [
    "The first index can be accessed as follows:"
   ]
  },
  {
   "cell_type": "markdown",
   "id": "438723ed-7ba8-4be4-af55-2f95e6152ad6",
   "metadata": {},
   "source": [
    "<hr/>\n",
    "<div class=\"alert alert-success alertsuccess\" style=\"margin-top: 20px\">\n",
    "[Tip]: Because indexing starts at 0, it means the first index is on the index 0.\n",
    "</div>\n",
    "<hr/>"
   ]
  },
  {
   "cell_type": "code",
   "execution_count": 34,
   "id": "3a0baed9-624c-4fac-b60c-576c7d9ce72e",
   "metadata": {},
   "outputs": [
    {
     "name": "stdout",
     "output_type": "stream",
     "text": [
      "s\n"
     ]
    }
   ],
   "source": [
    "# Print the first elemtnt in the string\n",
    "print(var_name[0])"
   ]
  },
  {
   "cell_type": "markdown",
   "id": "930db2a3-cc07-456e-a7b0-9d65a2d529c6",
   "metadata": {},
   "source": [
    "Accessing another index:"
   ]
  },
  {
   "cell_type": "code",
   "execution_count": 37,
   "id": "cbc6c072-a484-419b-a83a-3ddd35a077d5",
   "metadata": {},
   "outputs": [
    {
     "name": "stdout",
     "output_type": "stream",
     "text": [
      "a\n"
     ]
    }
   ],
   "source": [
    "# Print the element on the index 6 in the string\n",
    "print(var_name[6])"
   ]
  },
  {
   "cell_type": "code",
   "execution_count": 39,
   "id": "f5c9be29-70bc-4d5d-b8f1-feb4e3593dc0",
   "metadata": {},
   "outputs": [
    {
     "name": "stdout",
     "output_type": "stream",
     "text": [
      "r\n"
     ]
    }
   ],
   "source": [
    "# Print the elemtn on the index 10 in the string\n",
    "print(var_name[10])"
   ]
  },
  {
   "cell_type": "markdown",
   "id": "125e9ccb-fb76-41e4-a674-9404b7d431eb",
   "metadata": {},
   "source": [
    "### Negative Indexing"
   ]
  },
  {
   "cell_type": "markdown",
   "id": "67a24315-d0b0-4151-b88c-9afeb5b32235",
   "metadata": {},
   "source": [
    "#### Var_name = **\"supercalifragilisticexpialidocious\"**\n",
    "|s|u|p|e|r|c|a|l|i|f|r|a|g|i|l|i|s|t|i|c|e|x|p|i|a|l|i|d|o|c|i|o|u|s|\n",
    "|-|-|-|-|-|-|-|-|-|-|-|-|-|-|-|-|-|-|-|-|-|-|-|-|-|-|-|-|-|-|-|-|-|-|\n",
    "|-34|-33|-32|-31|-30|-29|-28|-27|-26|-25|-24|-23|-22|-21|-20|-19|-18|-17|-16|-15|-14|-13|-12|-11|-10|-9|-8|-7|-6|-5|-4|-3|-2|-1|"
   ]
  },
  {
   "cell_type": "markdown",
   "id": "5771bd5a-07b7-4521-ace7-8a7940055e33",
   "metadata": {},
   "source": [
    "Negative index can help us to count the element from the end of the string."
   ]
  },
  {
   "cell_type": "code",
   "execution_count": 70,
   "id": "365df430-dd94-4780-ae8d-f06ffea53b4c",
   "metadata": {},
   "outputs": [
    {
     "name": "stdout",
     "output_type": "stream",
     "text": [
      "s\n"
     ]
    }
   ],
   "source": [
    "# Print the last element in the string\n",
    "print(var_name[-1])"
   ]
  },
  {
   "cell_type": "code",
   "execution_count": 73,
   "id": "7e6db49a-6289-47c2-8056-4cd042305d40",
   "metadata": {},
   "outputs": [
    {
     "name": "stdout",
     "output_type": "stream",
     "text": [
      "s\n"
     ]
    }
   ],
   "source": [
    "# Print the first element in the string\n",
    "print(var_name[-34])"
   ]
  },
  {
   "cell_type": "markdown",
   "id": "bd4de4c0-7c01-489d-95ff-08b94092cdd3",
   "metadata": {},
   "source": [
    "Finding the number of characters in a string by using <code>len</code> function."
   ]
  },
  {
   "cell_type": "code",
   "execution_count": 78,
   "id": "5101287a-e241-4016-b86d-b5a992a33d1a",
   "metadata": {},
   "outputs": [
    {
     "data": {
      "text/plain": [
       "34"
      ]
     },
     "execution_count": 78,
     "metadata": {},
     "output_type": "execute_result"
    }
   ],
   "source": [
    "len(var_name)"
   ]
  },
  {
   "cell_type": "markdown",
   "id": "bc16cf34-5e4a-4e29-8001-2b5b766975e7",
   "metadata": {},
   "source": [
    "### Slicing"
   ]
  },
  {
   "cell_type": "markdown",
   "id": "3aba2a9f-bc5b-4342-a2c4-c59cc4bc43ee",
   "metadata": {},
   "source": [
    "Obtaining multiple characters from a string using slicing. We can obtain the 0 to 5th and 9th to 15th element."
   ]
  },
  {
   "cell_type": "markdown",
   "id": "b95ee8b0-82a9-4b61-880a-d9ce617d9757",
   "metadata": {},
   "source": [
    "<div class=\"alert alert-success alertsuccess\" style=\"margin-top: 20px\">\n",
    "[Tip]: When taking the slice, the first number means the index (start at 0), and the second number means the length from the index to the last element you want (start at 1)\n",
    "</div>"
   ]
  },
  {
   "cell_type": "code",
   "execution_count": 88,
   "id": "acc80d71-9e08-4b0d-a3aa-41b952d5b806",
   "metadata": {},
   "outputs": [
    {
     "data": {
      "text/plain": [
       "'super'"
      ]
     },
     "execution_count": 88,
     "metadata": {},
     "output_type": "execute_result"
    }
   ],
   "source": [
    "var_name[:5]"
   ]
  },
  {
   "cell_type": "code",
   "execution_count": 96,
   "id": "a37c6bdd-14ed-437d-8072-134ef246a717",
   "metadata": {},
   "outputs": [
    {
     "data": {
      "text/plain": [
       "'fragil'"
      ]
     },
     "execution_count": 96,
     "metadata": {},
     "output_type": "execute_result"
    }
   ],
   "source": [
    "var_name[9:15]"
   ]
  },
  {
   "cell_type": "markdown",
   "id": "09b54379-518c-4828-a7c1-a92cfbf877be",
   "metadata": {},
   "source": [
    "### Stride"
   ]
  },
  {
   "cell_type": "markdown",
   "id": "af44fb42-2ecd-4ada-a7c2-7e28341b6f62",
   "metadata": {},
   "source": [
    "We can also input a stride value as follows, with the '2' indicating that we are selecting every second variable:"
   ]
  },
  {
   "cell_type": "code",
   "execution_count": 110,
   "id": "000e4404-5167-4dd4-85d3-a8290aa7e37a",
   "metadata": {},
   "outputs": [
    {
     "data": {
      "text/plain": [
       "'sprairglsiepaioiu'"
      ]
     },
     "execution_count": 110,
     "metadata": {},
     "output_type": "execute_result"
    }
   ],
   "source": [
    "# Get every second element. The elments on index 1, 3, 5 ...\n",
    "var_name[::2]"
   ]
  },
  {
   "cell_type": "code",
   "execution_count": 116,
   "id": "9a327580-f464-404c-a621-6e81588ec79d",
   "metadata": {},
   "outputs": [
    {
     "data": {
      "text/plain": [
       "'clfaiitcxi'"
      ]
     },
     "execution_count": 116,
     "metadata": {},
     "output_type": "execute_result"
    }
   ],
   "source": [
    "# Get every second element in the range from index 0 to index 4\n",
    "\n",
    "var_name[5:25:2]"
   ]
  },
  {
   "cell_type": "markdown",
   "id": "809df340-3564-4ebe-91d1-65f68241aa36",
   "metadata": {},
   "source": [
    "## Scape Sequences"
   ]
  },
  {
   "cell_type": "markdown",
   "id": "78bc1432-c854-454e-aeb6-b6ef68c24263",
   "metadata": {},
   "source": [
    "Back slashes represent the beginning of escape sequences. Escape sequences represent strings that may be difficult to input. For example, back slash \"n\" represents a new line. The output is given by a new line after the back slash \"n\" is encountered:"
   ]
  },
  {
   "cell_type": "code",
   "execution_count": 127,
   "id": "91b15c80-4a19-4f0e-bde3-980141919a8b",
   "metadata": {},
   "outputs": [
    {
     "name": "stdout",
     "output_type": "stream",
     "text": [
      "supercalifragil\n",
      "isticexpialidocious\n"
     ]
    }
   ],
   "source": [
    "# New line scaoe sequence\n",
    "print('supercalifragil\\nisticexpialidocious')"
   ]
  },
  {
   "cell_type": "code",
   "execution_count": 131,
   "id": "e470a925-ce6b-4f0e-b1a9-749c13922d9a",
   "metadata": {},
   "outputs": [
    {
     "name": "stdout",
     "output_type": "stream",
     "text": [
      "supercalifragil\tisticexpial\tidocious\n"
     ]
    }
   ],
   "source": [
    "# Tab scaoe sequence\n",
    "print('supercalifragil\\tisticexpial\\tidocious')"
   ]
  },
  {
   "cell_type": "code",
   "execution_count": 135,
   "id": "d717d2ca-2428-4d3b-814e-2d57c9c84b51",
   "metadata": {},
   "outputs": [
    {
     "name": "stdout",
     "output_type": "stream",
     "text": [
      "supercalifragilis\\ticexpialidocious\n"
     ]
    }
   ],
   "source": [
    "# Include back slash in string\n",
    "print('supercalifragilis\\\\ticexpialidocious')"
   ]
  },
  {
   "cell_type": "code",
   "execution_count": 139,
   "id": "571e068b-cf6a-44d7-89b2-c57bf7e707ca",
   "metadata": {},
   "outputs": [
    {
     "name": "stdout",
     "output_type": "stream",
     "text": [
      "supercalifragilis\\ticexpialidocious\n"
     ]
    }
   ],
   "source": [
    "# r will tell python that staring will be display as a raw string\n",
    "print(r'supercalifragilis\\ticexpialidocious')"
   ]
  },
  {
   "cell_type": "code",
   "execution_count": null,
   "id": "2145ec7a-0258-45ab-97df-e212b1e7f64d",
   "metadata": {},
   "outputs": [],
   "source": []
  }
 ],
 "metadata": {
  "kernelspec": {
   "display_name": "Python [conda env:base] *",
   "language": "python",
   "name": "conda-base-py"
  },
  "language_info": {
   "codemirror_mode": {
    "name": "ipython",
    "version": 3
   },
   "file_extension": ".py",
   "mimetype": "text/x-python",
   "name": "python",
   "nbconvert_exporter": "python",
   "pygments_lexer": "ipython3",
   "version": "3.12.7"
  }
 },
 "nbformat": 4,
 "nbformat_minor": 5
}
