{
 "cells": [
  {
   "cell_type": "markdown",
   "id": "828da16c-dce6-4697-9923-8f1719de1980",
   "metadata": {},
   "source": [
    "# Car dealership's inventory management system"
   ]
  },
  {
   "cell_type": "markdown",
   "id": "22eca7da-4bc4-4999-8e5e-bdc6df51fe1b",
   "metadata": {},
   "source": [
    "A Python program to simulate a car dealership's inventory management system. The system aims to model cars and their attributes accurately. It demonstrates object-oriented programming concepts, showcasing the use of classes and objects."
   ]
  },
  {
   "cell_type": "code",
   "execution_count": 21,
   "id": "89125264-eae2-4e45-aa94-697f25a95fcd",
   "metadata": {},
   "outputs": [],
   "source": [
    "class Vehicle(object):\n",
    "\n",
    "    # Default color attribute\n",
    "    color = \"white\"\n",
    "\n",
    "    # Constructor\n",
    "    def __init__(self, max_speed,mileage):\n",
    "        self.max_speed = max_speed\n",
    "        self.mileage = mileage\n",
    "\n",
    "    # Set seating capacity method\n",
    "    def assign_seating_capacity(self,seating_capacity):\n",
    "        self.seating_capacity = seating_capacity\n",
    "\n",
    "    # Display Vehicle info method\n",
    "    def display_properties(self):\n",
    "        print(\"Properties of the Vehicle:\")\n",
    "        print(\"Color:\",self.color)\n",
    "        print(self.max_speed)\n",
    "        print(self.mileage)\n",
    "        print(self.seating_capacity)"
   ]
  },
  {
   "cell_type": "code",
   "execution_count": 23,
   "id": "d8fe4cdd-ff91-4e09-a4c0-104ac9d19fa3",
   "metadata": {},
   "outputs": [
    {
     "name": "stdout",
     "output_type": "stream",
     "text": [
      "Properties of the Vehicle:\n",
      "Color white\n",
      "200kph\n",
      "50000kmpl\n",
      "5\n"
     ]
    }
   ],
   "source": [
    "# Creating the first object of the Vehicle Class\n",
    "vehicle1 = Vehicle(\"200kph\",\"50000kmpl\")\n",
    "vehicle1.assign_seating_capacity(5)\n",
    "vehicle1.display_properties()"
   ]
  },
  {
   "cell_type": "code",
   "execution_count": 25,
   "id": "9e3eeae1-6126-4043-8230-0ac7238a0e0a",
   "metadata": {},
   "outputs": [
    {
     "name": "stdout",
     "output_type": "stream",
     "text": [
      "Properties of the Vehicle:\n",
      "Color white\n",
      "180kph\n",
      "75000kmpl\n",
      "4\n"
     ]
    }
   ],
   "source": [
    "# Creating the second object of the Vehicle Class\n",
    "vehicle2 = Vehicle(\"180kph\",\"75000kmpl\")\n",
    "vehicle2.assign_seating_capacity(4)\n",
    "vehicle2.display_properties()"
   ]
  },
  {
   "cell_type": "markdown",
   "id": "1d0efa3d-8939-44ab-8630-54af22228c9d",
   "metadata": {},
   "source": [
    "### Author:\n",
    "#### Tiago Quadros\n",
    "www.linkedin.com/in/tiago--quadros"
   ]
  },
  {
   "cell_type": "code",
   "execution_count": null,
   "id": "e2a631ad-f403-43a3-972c-f7e9f60d010e",
   "metadata": {},
   "outputs": [],
   "source": []
  }
 ],
 "metadata": {
  "kernelspec": {
   "display_name": "Python [conda env:base] *",
   "language": "python",
   "name": "conda-base-py"
  },
  "language_info": {
   "codemirror_mode": {
    "name": "ipython",
    "version": 3
   },
   "file_extension": ".py",
   "mimetype": "text/x-python",
   "name": "python",
   "nbconvert_exporter": "python",
   "pygments_lexer": "ipython3",
   "version": "3.12.7"
  }
 },
 "nbformat": 4,
 "nbformat_minor": 5
}
